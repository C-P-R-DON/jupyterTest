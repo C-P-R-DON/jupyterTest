{
 "cells": [
  {
   "cell_type": "markdown",
   "source": [
    "markdown(comment) example "
   ],
   "metadata": {
    "collapsed": false
   },
   "id": "ee8180cf2935a112"
  },
  {
   "cell_type": "code",
   "execution_count": 3,
   "outputs": [
    {
     "name": "stdout",
     "output_type": "stream",
     "text": [
      "this is a code example\n"
     ]
    }
   ],
   "source": [
    "print(\"this is a code example\")"
   ],
   "metadata": {
    "collapsed": false,
    "ExecuteTime": {
     "end_time": "2023-12-30T15:07:04.693228300Z",
     "start_time": "2023-12-30T15:07:04.594571700Z"
    }
   },
   "id": "d137077af9f15a3d"
  },
  {
   "cell_type": "markdown",
   "source": [
    "practicing a little python"
   ],
   "metadata": {
    "collapsed": false
   },
   "id": "bc63fb008fbae75e"
  },
  {
   "cell_type": "code",
   "execution_count": 4,
   "outputs": [],
   "source": [
    "def isPositive(num):\n",
    "    if num > 0:\n",
    "        isPositive = True\n",
    "    else:\n",
    "        isPositive = False\n",
    "    return isPositive"
   ],
   "metadata": {
    "collapsed": false,
    "ExecuteTime": {
     "end_time": "2023-12-30T15:07:04.816186600Z",
     "start_time": "2023-12-30T15:07:04.645704Z"
    }
   },
   "id": "ff3e3cfa51f641a4"
  },
  {
   "cell_type": "code",
   "execution_count": 5,
   "outputs": [
    {
     "name": "stdout",
     "output_type": "stream",
     "text": [
      "False\n"
     ]
    }
   ],
   "source": [
    "print(isPositive(-3))"
   ],
   "metadata": {
    "collapsed": false,
    "ExecuteTime": {
     "end_time": "2023-12-30T15:07:04.833477200Z",
     "start_time": "2023-12-30T15:07:04.664145900Z"
    }
   },
   "id": "bc3ec984e4e8fe6a"
  },
  {
   "cell_type": "code",
   "execution_count": 5,
   "outputs": [],
   "source": [],
   "metadata": {
    "collapsed": false,
    "ExecuteTime": {
     "end_time": "2023-12-30T15:07:04.879424600Z",
     "start_time": "2023-12-30T15:07:04.678743600Z"
    }
   },
   "id": "22018e3f91d35601"
  },
  {
   "cell_type": "code",
   "execution_count": 5,
   "outputs": [],
   "source": [],
   "metadata": {
    "collapsed": false,
    "ExecuteTime": {
     "end_time": "2023-12-30T15:07:04.881043300Z",
     "start_time": "2023-12-30T15:07:04.689685400Z"
    }
   },
   "id": "4ac24d1521a529cc"
  }
 ],
 "metadata": {
  "kernelspec": {
   "display_name": "Python 3",
   "language": "python",
   "name": "python3"
  },
  "language_info": {
   "codemirror_mode": {
    "name": "ipython",
    "version": 2
   },
   "file_extension": ".py",
   "mimetype": "text/x-python",
   "name": "python",
   "nbconvert_exporter": "python",
   "pygments_lexer": "ipython2",
   "version": "2.7.6"
  }
 },
 "nbformat": 4,
 "nbformat_minor": 5
}
